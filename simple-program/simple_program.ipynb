{
 "cells": [
  {
   "cell_type": "code",
   "execution_count": 1,
   "metadata": {},
   "outputs": [
    {
     "name": "stdout",
     "output_type": "stream",
     "text": [
      "number is odd\n"
     ]
    }
   ],
   "source": [
    "#check even or odd using reccursion\n",
    "def check(n):\n",
    "    if(n<2):\n",
    "        return (n%2==0)\n",
    "        \n",
    "    return (check(n-2))\n",
    "n=int(input(\"enter number\"))\n",
    "if(check(n)==True):\n",
    "    print(\"number is even\")\n",
    "else:\n",
    "    print(\"number is odd\")\n"
   ]
  },
  {
   "cell_type": "code",
   "execution_count": 8,
   "metadata": {},
   "outputs": [
    {
     "name": "stdout",
     "output_type": "stream",
     "text": [
      "the number is a palindrome\n"
     ]
    }
   ],
   "source": [
    "n = int(input(\"enter number:\"))\n",
    "temp = n\n",
    "rev= 0\n",
    "while(n>0):\n",
    "    dig=n%10\n",
    "    rev=rev*10 + dig\n",
    "    n =n//10\n",
    "if(temp==rev):\n",
    "    print(\"the number is a palindrome\")\n",
    "else:\n",
    "    print(\"the number isnt palindrome\")"
   ]
  },
  {
   "cell_type": "code",
   "execution_count": 9,
   "metadata": {},
   "outputs": [
    {
     "name": "stdout",
     "output_type": "stream",
     "text": [
      "enter string is a palindrome\n"
     ]
    }
   ],
   "source": [
    "#stirng palindrome\n",
    "n = input(\"enter an string\")\n",
    "if(n==n[::-1]):\n",
    "    print(\"the string is a palindrome\")\n",
    "else:\n",
    "    print(\"string isnt a palndrome\")"
   ]
  },
  {
   "cell_type": "code",
   "execution_count": 10,
   "metadata": {},
   "outputs": [
    {
     "name": "stdout",
     "output_type": "stream",
     "text": [
      "reverse of number: 4321\n"
     ]
    }
   ],
   "source": [
    "#reverse an number using while loop\n",
    "n = int(input(\"enter an number\"))\n",
    "rev = 0\n",
    "while(n>0):\n",
    "    dig=n%10\n",
    "    rev=rev*10 + dig\n",
    "    n = n//10\n",
    "print(\"reverse of number:\",rev)"
   ]
  },
  {
   "cell_type": "code",
   "execution_count": 11,
   "metadata": {},
   "outputs": [
    {
     "name": "stdout",
     "output_type": "stream",
     "text": [
      "3\n"
     ]
    }
   ],
   "source": [
    "#sum of number\n",
    "n =int(input(\"enter the number\"))\n",
    "rev=0\n",
    "while(n>0):\n",
    "    dig = n%10\n",
    "    rev = rev + dig\n",
    "    n = n//10\n",
    "print(rev)"
   ]
  },
  {
   "cell_type": "code",
   "execution_count": 14,
   "metadata": {},
   "outputs": [
    {
     "name": "stdout",
     "output_type": "stream",
     "text": [
      "30\n"
     ]
    }
   ],
   "source": [
    "#product of number\n",
    "n =int(input(\"enter the number\"))\n",
    "rev=1\n",
    "while(n>0):\n",
    "    dig = n%10\n",
    "    rev = rev * dig\n",
    "    n = n//10\n",
    "print(rev)"
   ]
  },
  {
   "cell_type": "code",
   "execution_count": 15,
   "metadata": {},
   "outputs": [
    {
     "name": "stdout",
     "output_type": "stream",
     "text": [
      "4\n"
     ]
    }
   ],
   "source": [
    "#program to count digits in number\n",
    "n = int(input(\"enter the number\"))\n",
    "count = 0\n",
    "while(n>0):\n",
    "    count+=1\n",
    "    n = n//10\n",
    "print(count)"
   ]
  },
  {
   "cell_type": "code",
   "execution_count": 27,
   "metadata": {},
   "outputs": [
    {
     "name": "stdout",
     "output_type": "stream",
     "text": [
      "0\n",
      "0\n",
      "1\n"
     ]
    }
   ],
   "source": [
    "#binary equavalent \n",
    "l =[]\n",
    "def convert(b):\n",
    "    if (b==0):\n",
    "        return 1\n",
    "    dig = b%2\n",
    "    l.append(dig)\n",
    "    convert(b//2)\n",
    "n = int(input(\"enter the number\"))\n",
    "\n",
    "l.reverse()\n",
    "convert(n)\n",
    "for i in l:\n",
    "    print(i)"
   ]
  },
  {
   "cell_type": "code",
   "execution_count": 30,
   "metadata": {},
   "outputs": [],
   "source": [
    "#binary number without using reccursion\n",
    "n ==int(input(\"enter the number\"))\n",
    "l =[]\n",
    "while(n>0):\n",
    "    dig = n %2 \n",
    "    l.append(dig)\n",
    "    n = n//2\n",
    "\n",
    "l.reverse()\n",
    "for i in l:\n",
    "    print(i)"
   ]
  },
  {
   "cell_type": "code",
   "execution_count": 31,
   "metadata": {},
   "outputs": [
    {
     "name": "stdout",
     "output_type": "stream",
     "text": [
      "2\n",
      "3\n",
      "5\n",
      "7\n",
      "11\n",
      "13\n",
      "17\n",
      "19\n",
      "23\n",
      "29\n",
      "31\n",
      "37\n",
      "41\n",
      "43\n"
     ]
    }
   ],
   "source": [
    "#print the prime number\n",
    "r = int(input(\"enter the upper limit\"))\n",
    "for a in range(2,r+1):\n",
    "    k = 0\n",
    "    for i in range(2,a//2+1):\n",
    "        if(a%i==0):\n",
    "            k = k +1\n",
    "    if(k<=0):\n",
    "        print(a)"
   ]
  },
  {
   "cell_type": "code",
   "execution_count": 33,
   "metadata": {},
   "outputs": [
    {
     "name": "stdout",
     "output_type": "stream",
     "text": [
      "it is amstrom number\n"
     ]
    }
   ],
   "source": [
    "#check amstrom number\n",
    "n = int(input(\"enter the number\"))\n",
    "a = list(map(int,str(n)))\n",
    "b = list(map(lambda x:x**3,a))\n",
    "if(sum(b)==n):\n",
    "    print(\"it is amstrom number\")\n",
    "else:\n",
    "    print(\"it is not amstrom number\")"
   ]
  },
  {
   "cell_type": "code",
   "execution_count": 34,
   "metadata": {},
   "outputs": [
    {
     "name": "stdout",
     "output_type": "stream",
     "text": [
      "0 1 1 2 3 5 8 13 "
     ]
    }
   ],
   "source": [
    "#fibonacci series\n",
    "a = int(input('enter the first number of series'))\n",
    "b = int(input(\"enter the second number of the series\"))\n",
    "n = int(input(\"enter number of terms\"))\n",
    "print(a,b,end=\" \")\n",
    "while(n-2):\n",
    "    c = a+b\n",
    "    a = b\n",
    "    b = c\n",
    "    print(c,end=\" \")\n",
    "    n = n-1\n",
    "     "
   ]
  },
  {
   "cell_type": "code",
   "execution_count": 39,
   "metadata": {},
   "outputs": [
    {
     "name": "stdout",
     "output_type": "stream",
     "text": [
      "0\n",
      "1\n",
      "1\n",
      "2\n",
      "3\n",
      "5\n",
      "8\n",
      "13\n"
     ]
    }
   ],
   "source": [
    "#fibonacci using reccursion\n",
    "def fibonacci(n):\n",
    "    if (n<=1):\n",
    "        return n\n",
    "    else:\n",
    "        return fibonacci(n-1) + fibonacci(n-2)\n",
    "n = int(input(\"enter number of terms \"))\n",
    "for i in range(n):\n",
    "    print(fibonacci(i))"
   ]
  },
  {
   "cell_type": "code",
   "execution_count": 42,
   "metadata": {},
   "outputs": [
    {
     "name": "stdout",
     "output_type": "stream",
     "text": [
      "Factorial of a Number is:\n",
      "24\n"
     ]
    }
   ],
   "source": [
    "def factorial(n):\n",
    "    if(n <= 1):\n",
    "        return 1\n",
    "    else:\n",
    "        return(n*factorial(n-1))\n",
    "n = int(input(\"Enter number:\"))\n",
    "\n",
    "print(factorial(n))"
   ]
  },
  {
   "cell_type": "code",
   "execution_count": null,
   "metadata": {},
   "outputs": [],
   "source": []
  }
 ],
 "metadata": {
  "kernelspec": {
   "display_name": "Python 3",
   "language": "python",
   "name": "python3"
  },
  "language_info": {
   "codemirror_mode": {
    "name": "ipython",
    "version": 3
   },
   "file_extension": ".py",
   "mimetype": "text/x-python",
   "name": "python",
   "nbconvert_exporter": "python",
   "pygments_lexer": "ipython3",
   "version": "3.11.7"
  }
 },
 "nbformat": 4,
 "nbformat_minor": 2
}
